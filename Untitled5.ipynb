{
  "cells": [
    {
      "cell_type": "markdown",
      "metadata": {
        "id": "view-in-github",
        "colab_type": "text"
      },
      "source": [
        "<a href=\"https://colab.research.google.com/github/AswathiBibeesh/Brain-Tumor-MRI-Classification/blob/main/Untitled5.ipynb\" target=\"_parent\"><img src=\"https://colab.research.google.com/assets/colab-badge.svg\" alt=\"Open In Colab\"/></a>"
      ]
    },
    {
      "cell_type": "code",
      "execution_count": 2,
      "metadata": {
        "id": "3HFTTwXOUR7p",
        "colab": {
          "base_uri": "https://localhost:8080/"
        },
        "outputId": "4fe2ca78-8863-4112-b29b-ddeeb50d7145"
      },
      "outputs": [
        {
          "output_type": "stream",
          "name": "stdout",
          "text": [
            "Drive already mounted at /content/drive; to attempt to forcibly remount, call drive.mount(\"/content/drive\", force_remount=True).\n"
          ]
        }
      ],
      "source": [
        "# CodeGrade Tag Init1\n",
        "\n",
        "from google.colab import drive\n",
        "drive.mount('/content/drive')"
      ]
    },
    {
      "cell_type": "markdown",
      "metadata": {
        "id": "l8LcS8yAWkix"
      },
      "source": [
        "Import Libraries"
      ]
    },
    {
      "cell_type": "code",
      "execution_count": 3,
      "metadata": {
        "id": "ny7OWQ2WWqdV"
      },
      "outputs": [],
      "source": [
        "# Import Necessary Libraries\n",
        "import tensorflow as tf\n",
        "from tensorflow.keras.preprocessing.image import ImageDataGenerator\n",
        "from tensorflow.keras.applications import VGG16, InceptionV3, ResNet50\n",
        "from tensorflow.keras.models import Sequential\n",
        "from tensorflow.keras.layers import Dense, Flatten, Dropout, GlobalAveragePooling2D\n",
        "from tensorflow.keras.optimizers import RMSprop\n",
        "from sklearn.model_selection import train_test_split\n",
        "import os\n",
        "import shutil\n",
        "import random"
      ]
    },
    {
      "cell_type": "markdown",
      "metadata": {
        "id": "Yw0CEYahWvJ5"
      },
      "source": [
        " Data Preprocess"
      ]
    },
    {
      "cell_type": "code",
      "execution_count": 4,
      "metadata": {
        "id": "9iQLFOiiW0ql"
      },
      "outputs": [],
      "source": [
        "# Define paths\n",
        "dataset_dir = '/content/drive/MyDrive/Archive'\n",
        "train_data_dir = '/content/drive/MyDrive/Archive/Training'\n",
        "test_data_dir = '/content/drive/MyDrive/Archive/Testing'\n",
        "\n",
        "# Create directories if they don't exist\n",
        "os.makedirs(train_data_dir, exist_ok=True)\n",
        "os.makedirs(test_data_dir, exist_ok=True)\n",
        "\n",
        "# Split data into training and testing sets\n",
        "for category in os.listdir(dataset_dir):\n",
        "    category_path = os.path.join(dataset_dir, category)\n",
        "    if os.path.isdir(category_path):\n",
        "        images = [f for f in os.listdir(category_path) if os.path.isfile(os.path.join(category_path, f))]\n",
        "        if len(images) > 0:\n",
        "            random.shuffle(images)\n",
        "            selected_images = images[:25]  # Select only 25 images\n",
        "            train_images, test_images = train_test_split(selected_images, test_size=0.2, random_state=42)\n",
        "\n",
        "            os.makedirs(os.path.join(train_data_dir, category), exist_ok=True)\n",
        "            os.makedirs(os.path.join(test_data_dir, category), exist_ok=True)\n",
        "\n",
        "            for img in train_images:\n",
        "                shutil.copy(os.path.join(category_path, img), os.path.join(train_data_dir, category, img))\n",
        "\n",
        "            for img in test_images:\n",
        "                shutil.copy(os.path.join(category_path, img), os.path.join(test_data_dir, category, img))\n",
        "\n",
        "# Image data generators\n",
        "train_datagen = ImageDataGenerator(rescale=1./255)\n",
        "test_datagen = ImageDataGenerator(rescale=1./255)\n"
      ]
    },
    {
      "cell_type": "code",
      "source": [
        "# Training data generator\n",
        "train_generator = train_datagen.flow_from_directory(\n",
        "    train_data_dir,\n",
        "    target_size=(150, 150),  # resize images to a smaller size\n",
        "    batch_size=16,  # reduce batch size\n",
        "    class_mode='categorical'\n",
        ")\n",
        "\n",
        "# Testing data generator\n",
        "test_generator = test_datagen.flow_from_directory(\n",
        "    test_data_dir,\n",
        "    target_size=(150, 150),  # resize images to a smaller size\n",
        "    batch_size=16,  # reduce batch size\n",
        "    class_mode='categorical'\n",
        ")\n"
      ],
      "metadata": {
        "colab": {
          "base_uri": "https://localhost:8080/"
        },
        "id": "145WutyXjxE3",
        "outputId": "1072b2d4-8043-45c0-d111-cc035d837aea"
      },
      "execution_count": 5,
      "outputs": [
        {
          "output_type": "stream",
          "name": "stdout",
          "text": [
            "Found 5722 images belonging to 4 classes.\n",
            "Found 1311 images belonging to 4 classes.\n"
          ]
        }
      ]
    },
    {
      "cell_type": "markdown",
      "metadata": {
        "id": "8WktN6S_Z10x"
      },
      "source": [
        "Image Data Generators"
      ]
    },
    {
      "cell_type": "markdown",
      "metadata": {
        "id": "Ns9Ri9hYZTtv"
      },
      "source": [
        "Create Model Function"
      ]
    },
    {
      "cell_type": "code",
      "execution_count": 6,
      "metadata": {
        "id": "W_Xz9rLmZvnf"
      },
      "outputs": [],
      "source": [
        "# Function to create model\n",
        "def create_model(base_model):\n",
        "    model = Sequential([\n",
        "        base_model,\n",
        "        GlobalAveragePooling2D(),\n",
        "        Dense(256, activation='relu'),\n",
        "        Dense(4, activation='softmax')  # Assuming 4 classes\n",
        "    ])\n",
        "\n",
        "    optimizer = RMSprop(learning_rate=0.0001)\n",
        "\n",
        "    model.compile(optimizer=optimizer,\n",
        "                  loss='categorical_crossentropy',\n",
        "                  metrics=['accuracy'])\n",
        "\n",
        "    return model\n"
      ]
    },
    {
      "cell_type": "markdown",
      "metadata": {
        "id": "ihqnMmMfaEYh"
      },
      "source": [
        "Create Model Function"
      ]
    },
    {
      "cell_type": "code",
      "execution_count": 7,
      "metadata": {
        "id": "zimdgl6VaIPt"
      },
      "outputs": [],
      "source": [
        "# Instantiate models\n",
        "vgg16_base = VGG16(weights='imagenet', include_top=False, input_shape=(150, 150, 3))\n",
        "inception_base = InceptionV3(weights='imagenet', include_top=False, input_shape=(150, 150, 3))\n",
        "resnet_base = ResNet50(weights='imagenet', include_top=False, input_shape=(150, 150, 3))\n",
        "\n",
        "vgg16_model = create_model(vgg16_base)\n",
        "inception_model = create_model(inception_base)\n",
        "resnet_model = create_model(resnet_base)"
      ]
    },
    {
      "cell_type": "markdown",
      "metadata": {
        "id": "fagkkOFTbpeE"
      },
      "source": [
        "Create Models"
      ]
    },
    {
      "cell_type": "code",
      "execution_count": 9,
      "metadata": {
        "id": "X9fVOn3CbsNK"
      },
      "outputs": [],
      "source": [
        "# Training function\n",
        "def train_model(model, train_generator, test_generator, epochs=10):\n",
        "    history = model.fit(train_generator,\n",
        "                        steps_per_epoch=len(train_generator),\n",
        "                        epochs=epochs,\n",
        "                        validation_data=test_generator,\n",
        "                        validation_steps=len(test_generator),\n",
        "                        verbose=1)\n",
        "    return history\n"
      ]
    },
    {
      "cell_type": "code",
      "source": [
        "\n",
        "# Train the models\n",
        "history_vgg16 = train_model(vgg16_model, train_generator, test_generator)\n",
        "history_inception = train_model(inception_model, train_generator, test_generator)\n",
        "history_resnet = train_model(resnet_model, train_generator, test_generator)"
      ],
      "metadata": {
        "colab": {
          "base_uri": "https://localhost:8080/"
        },
        "id": "RtmxT9xtkeFJ",
        "outputId": "bb8dc295-b44a-4f52-911e-a595e0aafb4c"
      },
      "execution_count": null,
      "outputs": [
        {
          "output_type": "stream",
          "name": "stdout",
          "text": [
            "Epoch 1/10\n",
            "358/358 [==============================] - 5421s 15s/step - loss: 0.7408 - accuracy: 0.6977 - val_loss: 0.2638 - val_accuracy: 0.9123\n",
            "Epoch 2/10\n",
            "358/358 [==============================] - 5481s 15s/step - loss: 0.2988 - accuracy: 0.8962 - val_loss: 0.2924 - val_accuracy: 0.8955\n",
            "Epoch 3/10\n",
            "358/358 [==============================] - 5609s 16s/step - loss: 0.2021 - accuracy: 0.9362 - val_loss: 0.1071 - val_accuracy: 0.9588\n",
            "Epoch 4/10\n",
            "179/358 [==============>...............] - ETA: 43:53 - loss: 0.1479 - accuracy: 0.9486"
          ]
        }
      ]
    },
    {
      "cell_type": "code",
      "source": [],
      "metadata": {
        "id": "PnEiSaRI-Z-K"
      },
      "execution_count": null,
      "outputs": []
    },
    {
      "cell_type": "code",
      "source": [
        "# Assuming you have already created vgg16_model, inception_model, and resnet_model\n",
        "# and you have defined your train_generator and test_generator\n",
        "\n",
        "# Train the models\n",
        "history_vgg16 = vgg16_model.fit(train_generator,\n",
        "                                steps_per_epoch=len(train_generator),\n",
        "                                epochs=10,\n",
        "                                validation_data=test_generator,\n",
        "                                validation_steps=len(test_generator),\n",
        "                                verbose=1)"
      ],
      "metadata": {
        "id": "d5_MjsaJkrVr"
      },
      "execution_count": null,
      "outputs": []
    },
    {
      "cell_type": "code",
      "execution_count": null,
      "metadata": {
        "id": "r0ZrfzLtXOLX"
      },
      "outputs": [],
      "source": [
        "history_inception = inception_model.fit(train_generator,\n",
        "                                        steps_per_epoch=len(train_generator),\n",
        "                                        epochs=10,\n",
        "                                        validation_data=test_generator,\n",
        "                                        validation_steps=len(test_generator),\n",
        "                                        verbose=1)\n",
        "\n",
        "history_resnet = resnet_model.fit(train_generator,\n",
        "                                  steps_per_epoch=len(train_generator),\n",
        "                                  epochs=10,\n",
        "                                  validation_data=test_generator,\n",
        "                                  validation_steps=len(test_generator),\n",
        "                                  verbose=1)\n"
      ]
    },
    {
      "cell_type": "markdown",
      "metadata": {
        "id": "jjY4FzVvbyiT"
      },
      "source": [
        "Train Models"
      ]
    }
  ],
  "metadata": {
    "colab": {
      "provenance": [],
      "authorship_tag": "ABX9TyPwXnRIJmwypRkkmH2IQAcr",
      "include_colab_link": true
    },
    "kernelspec": {
      "display_name": "Python 3",
      "name": "python3"
    },
    "language_info": {
      "name": "python"
    }
  },
  "nbformat": 4,
  "nbformat_minor": 0
}